{
 "cells": [
  {
   "cell_type": "code",
   "execution_count": 1,
   "id": "minute-requirement",
   "metadata": {},
   "outputs": [],
   "source": [
    "## All due credits to \n",
    "## Pooja Jain: https://www.kaggle.com/jainpooja/banking-project-term-deposit-prediction-model/notebook "
   ]
  },
  {
   "cell_type": "markdown",
   "id": "dependent-notion",
   "metadata": {},
   "source": [
    "# Loading Data Modelling Libraries\n",
    "\n",
    "We will use the popular scikit-learn library to develop our machine learning algorithms. In sklearn, algorithms are called Estimators and implemented in their own classes. For data visualization, we will use the matplotlib and seaborn library. Below are common classes to load."
   ]
  },
  {
   "cell_type": "code",
   "execution_count": 2,
   "id": "accessory-evans",
   "metadata": {},
   "outputs": [],
   "source": [
    "import numpy as np\n",
    "import pandas as pd\n",
    "import matplotlib.pyplot as plt\n",
    "import seaborn as sns\n",
    "%matplotlib inline\n",
    "import warnings\n",
    "warnings.filterwarnings('ignore')\n",
    "\n",
    "from sklearn.preprocessing import LabelEncoder,MinMaxScaler,StandardScaler\n",
    "from sklearn.linear_model import LogisticRegression\n",
    "from sklearn.tree import DecisionTreeClassifier\n",
    "from sklearn.ensemble import GradientBoostingClassifier ,RandomForestClassifier ,GradientBoostingClassifier\n",
    "# from xgboost import XGBClassifier \n",
    "from sklearn.model_selection import GridSearchCV, RandomizedSearchCV\n",
    "from sklearn.linear_model import Ridge,Lasso\n",
    "from sklearn.metrics import roc_auc_score ,mean_squared_error,accuracy_score,classification_report,roc_curve,confusion_matrix\n",
    "import warnings\n",
    "warnings.filterwarnings('ignore')\n",
    "from scipy.stats.mstats import winsorize\n",
    "from sklearn.feature_selection import RFE\n",
    "from sklearn.model_selection import train_test_split\n",
    "pd.set_option('display.max_columns',None)\n",
    "import six\n",
    "import sys\n",
    "sys.modules['sklearn.externals.six'] = six"
   ]
  },
  {
   "cell_type": "markdown",
   "id": "popular-architect",
   "metadata": {},
   "source": [
    "# Data Loading and Cleaning"
   ]
  },
  {
   "cell_type": "markdown",
   "id": "regulated-interface",
   "metadata": {},
   "source": [
    "## Load the Preprocessed dataset\n",
    "\n",
    "In this task, we'll load the dataframe in pandas, drop the unnecessary columns and display the top five rows of the dataset."
   ]
  },
  {
   "cell_type": "code",
   "execution_count": 3,
   "id": "unauthorized-vegetable",
   "metadata": {},
   "outputs": [
    {
     "name": "stdout",
     "output_type": "stream",
     "text": [
      "Shape of the data is:  (32950, 14)\n"
     ]
    },
    {
     "data": {
      "text/html": [
       "<div>\n",
       "<style scoped>\n",
       "    .dataframe tbody tr th:only-of-type {\n",
       "        vertical-align: middle;\n",
       "    }\n",
       "\n",
       "    .dataframe tbody tr th {\n",
       "        vertical-align: top;\n",
       "    }\n",
       "\n",
       "    .dataframe thead th {\n",
       "        text-align: right;\n",
       "    }\n",
       "</style>\n",
       "<table border=\"1\" class=\"dataframe\">\n",
       "  <thead>\n",
       "    <tr style=\"text-align: right;\">\n",
       "      <th></th>\n",
       "      <th>age</th>\n",
       "      <th>job</th>\n",
       "      <th>marital</th>\n",
       "      <th>education</th>\n",
       "      <th>default</th>\n",
       "      <th>housing</th>\n",
       "      <th>loan</th>\n",
       "      <th>contact</th>\n",
       "      <th>month</th>\n",
       "      <th>day_of_week</th>\n",
       "      <th>duration</th>\n",
       "      <th>campaign</th>\n",
       "      <th>poutcome</th>\n",
       "      <th>y</th>\n",
       "    </tr>\n",
       "  </thead>\n",
       "  <tbody>\n",
       "    <tr>\n",
       "      <th>0</th>\n",
       "      <td>49</td>\n",
       "      <td>1</td>\n",
       "      <td>1</td>\n",
       "      <td>2</td>\n",
       "      <td>0</td>\n",
       "      <td>0</td>\n",
       "      <td>0</td>\n",
       "      <td>0</td>\n",
       "      <td>7</td>\n",
       "      <td>4</td>\n",
       "      <td>227</td>\n",
       "      <td>4</td>\n",
       "      <td>1</td>\n",
       "      <td>0</td>\n",
       "    </tr>\n",
       "    <tr>\n",
       "      <th>1</th>\n",
       "      <td>37</td>\n",
       "      <td>2</td>\n",
       "      <td>1</td>\n",
       "      <td>6</td>\n",
       "      <td>0</td>\n",
       "      <td>0</td>\n",
       "      <td>0</td>\n",
       "      <td>1</td>\n",
       "      <td>7</td>\n",
       "      <td>4</td>\n",
       "      <td>202</td>\n",
       "      <td>2</td>\n",
       "      <td>0</td>\n",
       "      <td>0</td>\n",
       "    </tr>\n",
       "    <tr>\n",
       "      <th>2</th>\n",
       "      <td>55</td>\n",
       "      <td>5</td>\n",
       "      <td>1</td>\n",
       "      <td>0</td>\n",
       "      <td>0</td>\n",
       "      <td>0</td>\n",
       "      <td>0</td>\n",
       "      <td>0</td>\n",
       "      <td>3</td>\n",
       "      <td>1</td>\n",
       "      <td>550</td>\n",
       "      <td>1</td>\n",
       "      <td>1</td>\n",
       "      <td>1</td>\n",
       "    </tr>\n",
       "    <tr>\n",
       "      <th>3</th>\n",
       "      <td>36</td>\n",
       "      <td>0</td>\n",
       "      <td>1</td>\n",
       "      <td>6</td>\n",
       "      <td>0</td>\n",
       "      <td>1</td>\n",
       "      <td>0</td>\n",
       "      <td>1</td>\n",
       "      <td>6</td>\n",
       "      <td>1</td>\n",
       "      <td>120</td>\n",
       "      <td>2</td>\n",
       "      <td>1</td>\n",
       "      <td>0</td>\n",
       "    </tr>\n",
       "    <tr>\n",
       "      <th>4</th>\n",
       "      <td>55</td>\n",
       "      <td>5</td>\n",
       "      <td>0</td>\n",
       "      <td>6</td>\n",
       "      <td>0</td>\n",
       "      <td>0</td>\n",
       "      <td>0</td>\n",
       "      <td>0</td>\n",
       "      <td>4</td>\n",
       "      <td>3</td>\n",
       "      <td>368</td>\n",
       "      <td>2</td>\n",
       "      <td>1</td>\n",
       "      <td>0</td>\n",
       "    </tr>\n",
       "  </tbody>\n",
       "</table>\n",
       "</div>"
      ],
      "text/plain": [
       "   age  job  marital  education  default  housing  loan  contact  month  \\\n",
       "0   49    1        1          2        0        0     0        0      7   \n",
       "1   37    2        1          6        0        0     0        1      7   \n",
       "2   55    5        1          0        0        0     0        0      3   \n",
       "3   36    0        1          6        0        1     0        1      6   \n",
       "4   55    5        0          6        0        0     0        0      4   \n",
       "\n",
       "   day_of_week  duration  campaign  poutcome  y  \n",
       "0            4       227         4         1  0  \n",
       "1            4       202         2         0  0  \n",
       "2            1       550         1         1  1  \n",
       "3            1       120         2         1  0  \n",
       "4            3       368         2         1  0  "
      ]
     },
     "execution_count": 3,
     "metadata": {},
     "output_type": "execute_result"
    }
   ],
   "source": [
    "# accessing to the folder where the file is stored\n",
    "path = 'preprocessed_data.csv'\n",
    "\n",
    "# Load the dataframe\n",
    "dataframe = pd.read_csv(path)\n",
    "\n",
    "print('Shape of the data is: ',dataframe.shape)\n",
    "\n",
    "dataframe.head()"
   ]
  },
  {
   "cell_type": "markdown",
   "id": "liked-horse",
   "metadata": {},
   "source": [
    "## Steps Ahead"
   ]
  },
  {
   "cell_type": "markdown",
   "id": "nervous-prompt",
   "metadata": {},
   "source": [
    "## Applying vanilla models on the data\n",
    "\n",
    "Since we have performed preprocessing on our data and also done with the EDA part, it is now time to apply vanilla machine learning models on the data and check their performance."
   ]
  },
  {
   "cell_type": "markdown",
   "id": "brown-shopper",
   "metadata": {},
   "source": [
    "### Fit vanilla classification models\n",
    "\n",
    "Since we have label encoded our categorical variables, our data is now ready for applying machine learning algorithms.\n",
    "\n",
    "There are many Classification algorithms are present in machine learning, which are used for different classification applications. Some of the main classification algorithms are as follows-\n",
    "\n",
    "- Logistic Regression\n",
    "- DecisionTree Classifier\n",
    "- RandomForest Classfier\n",
    "\n",
    "The code we have written below internally splits the data into training data and validation data. It then fits the classification model on the train data and then makes a prediction on the validation data and outputs the scores for this prediction."
   ]
  },
  {
   "cell_type": "markdown",
   "id": "pretty-combining",
   "metadata": {},
   "source": [
    "#### PREPARING THE TRAIN AND TEST DATA"
   ]
  },
  {
   "cell_type": "code",
   "execution_count": 4,
   "id": "rough-chester",
   "metadata": {},
   "outputs": [],
   "source": [
    "# Predictors\n",
    "X = dataframe.iloc[:,:-1]\n",
    "\n",
    "# Target\n",
    "y = dataframe.iloc[:,-1]\n",
    "\n",
    "# Dividing the data into train and test subsets\n",
    "x_train,x_val,y_train,y_val = train_test_split(X,y,test_size=0.2,random_state=42)"
   ]
  },
  {
   "cell_type": "markdown",
   "id": "persistent-bridges",
   "metadata": {},
   "source": [
    "#### FITTING THE MODEL AND PREDICTING THE VALUES"
   ]
  },
  {
   "cell_type": "code",
   "execution_count": 5,
   "id": "honest-single",
   "metadata": {},
   "outputs": [],
   "source": [
    "# run Logistic Regression model\n",
    "model = LogisticRegression()\n",
    "\n",
    "# fitting the model\n",
    "model.fit(x_train, y_train)\n",
    "\n",
    "# predicting the values\n",
    "y_scores = model.predict(x_val)"
   ]
  },
  {
   "cell_type": "markdown",
   "id": "nuclear-myrtle",
   "metadata": {},
   "source": [
    "#### GETTING THE METRICS TO CHECK OUR MODEL PERFORMANCE"
   ]
  },
  {
   "cell_type": "code",
   "execution_count": 6,
   "id": "fuzzy-uncle",
   "metadata": {},
   "outputs": [
    {
     "name": "stdout",
     "output_type": "stream",
     "text": [
      "Classification Report:\n",
      "              precision    recall  f1-score   support\n",
      "\n",
      "           0       0.90      0.97      0.93      5798\n",
      "           1       0.50      0.21      0.29       792\n",
      "\n",
      "    accuracy                           0.88      6590\n",
      "   macro avg       0.70      0.59      0.61      6590\n",
      "weighted avg       0.85      0.88      0.86      6590\n",
      "\n",
      "ROC_AUC_SCORE is 0.5896789122685983\n"
     ]
    }
   ],
   "source": [
    "# getting the auc roc curve\n",
    "auc = roc_auc_score(y_val, y_scores)\n",
    "\n",
    "print('Classification Report:')\n",
    "print(classification_report(y_val,y_scores))\n",
    "\n",
    "false_positive_rate, true_positive_rate, thresholds = roc_curve(y_val, y_scores)\n",
    "print('ROC_AUC_SCORE is',roc_auc_score(y_val, y_scores))"
   ]
  },
  {
   "cell_type": "code",
   "execution_count": 7,
   "id": "built-prospect",
   "metadata": {},
   "outputs": [
    {
     "data": {
      "image/png": "[encoded data removed]",
      "text/plain": [
       "<Figure size 432x288 with 1 Axes>"
      ]
     },
     "metadata": {
      "needs_background": "light"
     },
     "output_type": "display_data"
    }
   ],
   "source": [
    "plt.plot(false_positive_rate, true_positive_rate)\n",
    "plt.xlabel('FPR')\n",
    "plt.ylabel('TPR')\n",
    "plt.title('ROC curve')\n",
    "plt.show()"
   ]
  },
  {
   "cell_type": "markdown",
   "id": "single-boxing",
   "metadata": {},
   "source": [
    "#### The above two steps are combined and run in a single cell for all the remaining models respectively"
   ]
  },
  {
   "cell_type": "code",
   "execution_count": 8,
   "id": "biblical-working",
   "metadata": {},
   "outputs": [
    {
     "name": "stdout",
     "output_type": "stream",
     "text": [
      "Classification Report:\n",
      "              precision    recall  f1-score   support\n",
      "\n",
      "           0       0.93      0.93      0.93      5798\n",
      "           1       0.46      0.45      0.46       792\n",
      "\n",
      "    accuracy                           0.87      6590\n",
      "   macro avg       0.69      0.69      0.69      6590\n",
      "weighted avg       0.87      0.87      0.87      6590\n",
      "\n",
      "ROC_AUC_SCORE is 0.690594501412887\n"
     ]
    }
   ],
   "source": [
    "# Run Decision Tree Classifier\n",
    "model = DecisionTreeClassifier()\n",
    "\n",
    "model.fit(x_train, y_train)\n",
    "y_scores = model.predict(x_val)\n",
    "auc = roc_auc_score(y_val, y_scores)\n",
    "print('Classification Report:')\n",
    "\n",
    "print(classification_report(y_val,y_scores))\n",
    "\n",
    "false_positive_rate, true_positive_rate, thresholds = roc_curve(y_val, y_scores)\n",
    "print('ROC_AUC_SCORE is',roc_auc_score(y_val, y_scores))"
   ]
  },
  {
   "cell_type": "code",
   "execution_count": 9,
   "id": "popular-secretary",
   "metadata": {},
   "outputs": [
    {
     "data": {
      "image/png": "[encoded data removed]",
      "text/plain": [
       "<Figure size 432x288 with 1 Axes>"
      ]
     },
     "metadata": {
      "needs_background": "light"
     },
     "output_type": "display_data"
    }
   ],
   "source": [
    "plt.plot(false_positive_rate, true_positive_rate)\n",
    "plt.xlabel('FPR')\n",
    "plt.ylabel('TPR')\n",
    "plt.title('ROC curve')\n",
    "plt.show()"
   ]
  },
  {
   "cell_type": "code",
   "execution_count": 17,
   "id": "intelligent-series",
   "metadata": {},
   "outputs": [],
   "source": [
    "from sklearn import tree\n",
    "from sklearn.tree import export_graphviz # display the tree within a Jupyter notebook\n",
    "from IPython.display import SVG\n",
    "from graphviz import Source\n",
    "from IPython.display import display\n",
    "from ipywidgets import interactive, IntSlider, FloatSlider, interact\n",
    "import ipywidgets\n",
    "from IPython.display import Image\n",
    "from subprocess import call\n",
    "import matplotlib.image as mpimg"
   ]
  },
  {
   "cell_type": "code",
   "execution_count": 18,
   "id": "republican-retrieval",
   "metadata": {},
   "outputs": [
    {
     "data": {
      "application/vnd.jupyter.widget-view+json": {
       "model_id": "408182aceee84623a2eea02a38b97ef1",
       "version_major": 2,
       "version_minor": 0
      },
      "text/plain": [
       "interactive(children=(Dropdown(description='crit', options=('gini', 'entropy'), value='gini'), Dropdown(descri…"
      ]
     },
     "metadata": {},
     "output_type": "display_data"
    }
   ],
   "source": [
    "@interact\n",
    "def plot_tree(crit=[\"gini\", \"entropy\"],\n",
    "              split=[\"best\", \"random\"],\n",
    "              depth=IntSlider(min=1,max=30,value=2, continuous_update=False),\n",
    "              min_split=IntSlider(min=2,max=5,value=2, continuous_update=False),\n",
    "              min_leaf=IntSlider(min=1,max=5,value=1, continuous_update=False)):\n",
    "    \n",
    "    estimator = DecisionTreeClassifier(random_state=0,\n",
    "                                       criterion=crit,\n",
    "                                       splitter = split,\n",
    "                                       max_depth = depth,\n",
    "                                       min_samples_split=min_split,\n",
    "                                       min_samples_leaf=min_leaf)\n",
    "    estimator.fit(x_train, y_train)\n",
    "    print('Decision Tree Training Accuracy: {:.3f}'.format(accuracy_score(y_train, estimator.predict(x_train))))\n",
    "    print('Decision Tree Test Accuracy: {:.3f}'.format(accuracy_score(y_val, estimator.predict(x_val))))\n",
    "\n",
    "    graph = Source(tree.export_graphviz(estimator,\n",
    "                                        out_file=None,\n",
    "                                        feature_names=x_train.columns,\n",
    "                                        class_names=['0', '1'],\n",
    "                                        filled = True))\n",
    "    \n",
    "    display(Image(data=graph.pipe(format='png')))\n",
    "    \n",
    "    return estimator"
   ]
  },
  {
   "cell_type": "code",
   "execution_count": 19,
   "id": "expired-honduras",
   "metadata": {},
   "outputs": [
    {
     "name": "stdout",
     "output_type": "stream",
     "text": [
      "Classification Report:\n",
      "              precision    recall  f1-score   support\n",
      "\n",
      "           0       0.92      0.97      0.95      5798\n",
      "           1       0.66      0.36      0.46       792\n",
      "\n",
      "    accuracy                           0.90      6590\n",
      "   macro avg       0.79      0.67      0.70      6590\n",
      "weighted avg       0.89      0.90      0.89      6590\n",
      "\n",
      "ROC_AUC_SCORE is 0.6659848310633063\n"
     ]
    }
   ],
   "source": [
    "# run Random Forrest Classifier\n",
    "model = RandomForestClassifier()\n",
    "\n",
    "model.fit(x_train, y_train)\n",
    "y_scores = model.predict(x_val)\n",
    "auc = roc_auc_score(y_val, y_scores)\n",
    "print('Classification Report:')\n",
    "print(classification_report(y_val,y_scores))\n",
    "\n",
    "false_positive_rate, true_positive_rate, thresholds = roc_curve(y_val, y_scores)\n",
    "print('ROC_AUC_SCORE is',roc_auc_score(y_val, y_scores))   "
   ]
  },
  {
   "cell_type": "code",
   "execution_count": 24,
   "id": "universal-polls",
   "metadata": {},
   "outputs": [
    {
     "data": {
      "image/png": "[encoded data removed]",
      "text/plain": [
       "<Figure size 432x288 with 1 Axes>"
      ]
     },
     "metadata": {
      "needs_background": "light"
     },
     "output_type": "display_data"
    }
   ],
   "source": [
    "plt.plot(false_positive_rate, true_positive_rate)\n",
    "plt.xlabel('FPR')\n",
    "plt.ylabel('TPR')\n",
    "plt.title('ROC curve')\n",
    "plt.show()"
   ]
  },
  {
   "cell_type": "markdown",
   "id": "original-fishing",
   "metadata": {},
   "source": [
    "### Feature Selection\n",
    "\n",
    "Now that we have applied vanilla models on our data, we now have a basic understanding of what our predictions look like. Let's now use feature selection methods for identifying the best set of features for each model."
   ]
  },
  {
   "cell_type": "markdown",
   "id": "charming-catholic",
   "metadata": {},
   "source": [
    "### Using RFE for feature selection"
   ]
  },
  {
   "cell_type": "markdown",
   "id": "earned-error",
   "metadata": {},
   "source": [
    "In this task let's use Recursive Feature Elimination for selecting the best features. RFE is a wrapper method that uses the model to identify the best features.\n",
    "\n",
    "For the below task, we have inputted 8 feature. You can change this value and input the number of features you want to retain for your model"
   ]
  },
  {
   "cell_type": "code",
   "execution_count": 26,
   "id": "modern-agriculture",
   "metadata": {},
   "outputs": [
    {
     "name": "stdout",
     "output_type": "stream",
     "text": [
      "Features  to be selected for Logistic Regression model are:\n",
      "['marital', 'housing', 'contact', 'day_of_week', 'campaign', 'poutcome']\n",
      "==========================================================================================\n"
     ]
    }
   ],
   "source": [
    "# Selecting 8 number of features\n",
    "\n",
    "#   selecting models\n",
    "models = LogisticRegression()\n",
    "\n",
    "#   using  rfe and selecting n features\n",
    "rfe = RFE(models)\n",
    "\n",
    "#   fitting the model\n",
    "rfe = rfe.fit(X,y)\n",
    "\n",
    "#   ranking features\n",
    "feature_ranking = pd.Series(rfe.ranking_, index=X.columns)\n",
    "\n",
    "plt.show()\n",
    "print('Features  to be selected for Logistic Regression model are:')\n",
    "print(feature_ranking[feature_ranking.values==1].index.tolist())\n",
    "print('==='*30)"
   ]
  },
  {
   "cell_type": "code",
   "execution_count": 27,
   "id": "characteristic-parameter",
   "metadata": {},
   "outputs": [
    {
     "name": "stdout",
     "output_type": "stream",
     "text": [
      "Features  to be selected for Random Forrest Classifier are:\n",
      "['age', 'job', 'month', 'day_of_week', 'duration', 'poutcome']\n",
      "==========================================================================================\n"
     ]
    }
   ],
   "source": [
    "# Selecting 8 number of features\n",
    "\n",
    "# Random Forrest classifier model\n",
    "models = RandomForestClassifier()\n",
    "\n",
    "#   using  rfe and selecting n features\n",
    "rfe = RFE(models)\n",
    "\n",
    "#   fitting the model\n",
    "rfe = rfe.fit(X,y)\n",
    "\n",
    "#   ranking features\n",
    "feature_ranking = pd.Series(rfe.ranking_, index=X.columns)\n",
    "\n",
    "plt.show()\n",
    "print('Features  to be selected for Random Forrest Classifier are:')\n",
    "print(feature_ranking[feature_ranking.values==1].index.tolist())\n",
    "print('==='*30)"
   ]
  },
  {
   "cell_type": "markdown",
   "id": "drawn-vertical",
   "metadata": {},
   "source": [
    "### Feature Selection using Random Forest\n",
    "\n",
    "Random Forests are often used for feature selection in a data science workflow. This is because the tree based strategies that random forests use, rank the features based on how well they improve the purity of the node. The nodes having a very low impurity get split at the start of the tree while the nodes having a very high impurity get split towards the end of the tree. Hence by pruning the tree after desired amount of splits, we can create a subset of the most important features."
   ]
  },
  {
   "cell_type": "code",
   "execution_count": 28,
   "id": "digital-tablet",
   "metadata": {},
   "outputs": [
    {
     "data": {
      "image/png": "[encoded data removed]",
      "text/plain": [
       "<Figure size 432x288 with 1 Axes>"
      ]
     },
     "metadata": {
      "needs_background": "light"
     },
     "output_type": "display_data"
    }
   ],
   "source": [
    "# splitting the data into train and test data\n",
    "X_train, X_test, y_train, y_test = train_test_split(X, y, test_size=0.3, random_state=42, stratify=y)\n",
    "\n",
    "# selecting the data\n",
    "rfc = RandomForestClassifier(random_state=42)\n",
    "\n",
    "# fitting the data\n",
    "rfc.fit(X_train, y_train)\n",
    "\n",
    "# predicting the data\n",
    "y_pred = rfc.predict(X_test)\n",
    "\n",
    "# feature importances\n",
    "rfc_importances = pd.Series(rfc.feature_importances_, index=X.columns).sort_values().tail(10)\n",
    "\n",
    "# plotting bar chart according to feature importance\n",
    "rfc_importances.plot(kind='bar')\n",
    "plt.show()"
   ]
  },
  {
   "cell_type": "markdown",
   "id": "beneficial-migration",
   "metadata": {},
   "source": [
    "### Observations :\n",
    "\n",
    "We can test the features obtained from both the feature selection techniques by inserting these features to the model and depending on which set of features perform better, we can retain them for the model.\n",
    "\n",
    "#### The Feature Selection techniques can differ from problem to problem and the techniques applied for this problem may or may not work for the other problems. In those cases, feel free to try out other methods like PCA, SelectKBest(), SelectPercentile(), tSNE etc."
   ]
  },
  {
   "cell_type": "markdown",
   "id": "random-publisher",
   "metadata": {},
   "source": [
    "## Grid-Search & Hyperparameter Tuning\n",
    "\n",
    "Hyperparameters are function attributes that we have to specify for an algorithm. By now, you should be knowing that grid search is done to find out the best set of hyperparameters for your model."
   ]
  },
  {
   "cell_type": "markdown",
   "id": "surgical-malpractice",
   "metadata": {},
   "source": [
    "### Grid Search for Random Forest\n",
    "\n",
    "In the below task, we write a code that performs hyperparameter tuning for a random forest classifier. We have used the hyperparameters max_features, max_depth and criterion for this task. Feel free to play around with this function by introducing a few more hyperparameters and chaniging their values"
   ]
  },
  {
   "cell_type": "code",
   "execution_count": 29,
   "id": "minor-fever",
   "metadata": {},
   "outputs": [
    {
     "name": "stdout",
     "output_type": "stream",
     "text": [
      "Best Parameters are: {'criterion': 'gini', 'max_depth': 8, 'max_features': 'log2'}\n"
     ]
    }
   ],
   "source": [
    "# splitting the data\n",
    "x_train,x_val,y_train,y_val = train_test_split(X,y, test_size=0.3, random_state=42, stratify=y)\n",
    "\n",
    "# selecting the classifier\n",
    "rfc = RandomForestClassifier()\n",
    "\n",
    "# selecting the parameter\n",
    "param_grid = { 'max_features': ['auto', 'sqrt', 'log2'],\n",
    "                'max_depth' : [4,5,6,7,8],\n",
    "                'criterion' :['gini', 'entropy']}\n",
    "\n",
    "# using grid search with respective parameters\n",
    "grid_search_model = GridSearchCV(rfc, param_grid=param_grid)\n",
    "\n",
    "# fitting the model\n",
    "grid_search_model.fit(x_train, y_train)\n",
    "\n",
    "# printing the best parameters\n",
    "print('Best Parameters are:',grid_search_model.best_params_)"
   ]
  },
  {
   "cell_type": "markdown",
   "id": "through-beverage",
   "metadata": {},
   "source": [
    "#### Applying the best parameters obtained using Grid Search on Random Forest model\n",
    "\n",
    "In the task below, we fit a random forest model using the best parameters obtained using Grid Search. Since the target is imbalanced, we apply Synthetic Minority Oversampling (SMOTE) for undersampling and oversampling the majority and minority classes in the target respectively.\n",
    "\n",
    "#### Kindly note that SMOTE should always be applied only on the training data and not on the validation and test data.\n",
    "\n",
    "You can try experimenting with and without SMOTE and check for the difference in recall."
   ]
  },
  {
   "cell_type": "code",
   "execution_count": 33,
   "id": "present-saying",
   "metadata": {},
   "outputs": [
    {
     "name": "stdout",
     "output_type": "stream",
     "text": [
      "              precision    recall  f1-score   support\n",
      "\n",
      "           0       0.96      0.75      0.84      8723\n",
      "           1       0.29      0.77      0.42      1162\n",
      "\n",
      "    accuracy                           0.75      9885\n",
      "   macro avg       0.62      0.76      0.63      9885\n",
      "weighted avg       0.88      0.75      0.79      9885\n",
      "\n",
      "[[6531 2192]\n",
      " [ 269  893]]\n"
     ]
    },
    {
     "data": {
      "image/png": "[encoded data removed]",
      "text/plain": [
       "<Figure size 576x396 with 1 Axes>"
      ]
     },
     "metadata": {},
     "output_type": "display_data"
    }
   ],
   "source": [
    "from sklearn.metrics import roc_auc_score,roc_curve,classification_report\n",
    "from sklearn.model_selection import cross_val_score\n",
    "from imblearn.over_sampling import SMOTE\n",
    "from yellowbrick.classifier import roc_auc\n",
    "\n",
    "\n",
    "# A function to use smote\n",
    "def grid_search_random_forrest_best(dataframe,target):\n",
    "    \n",
    "    # splitting the data\n",
    "    x_train,x_val,y_train,y_val = train_test_split(dataframe,target, test_size=0.3, random_state=42)\n",
    "    \n",
    "    # Applying Smote on train data for dealing with class imbalance\n",
    "    smote = SMOTE()\n",
    "    \n",
    "    X_sm, y_sm =  smote.fit_resample(x_train, y_train)\n",
    "    \n",
    "    rfc = RandomForestClassifier(n_estimators=11, max_features='auto', max_depth=8, criterion='entropy',random_state=42)\n",
    "    \n",
    "    rfc.fit(X_sm, y_sm)\n",
    "    y_pred = rfc.predict(x_val)\n",
    "    print(classification_report(y_val, y_pred))\n",
    "    print(confusion_matrix(y_val, y_pred))\n",
    "    visualizer = roc_auc(rfc,X_sm,y_sm,x_val,y_val)\n",
    "\n",
    "\n",
    "grid_search_random_forrest_best(X,y)"
   ]
  },
  {
   "cell_type": "markdown",
   "id": "equipped-copyright",
   "metadata": {},
   "source": [
    "### Applying the grid search function for random forest only on the best features obtained using Random Forest"
   ]
  },
  {
   "cell_type": "code",
   "execution_count": null,
   "id": "universal-shirt",
   "metadata": {},
   "outputs": [],
   "source": [
    "grid_search_random_forrest_best(X[['age', 'job', 'education', 'month', 'day_of_week'\n",
    "                                   , 'duration', 'campaign', 'poutcome']],y)"
   ]
  },
  {
   "cell_type": "markdown",
   "id": "stuck-steel",
   "metadata": {},
   "source": [
    "### Ensembling\n",
    "\n",
    "Ensemble learning uses multiple machine learning models to obtain better predictive performance than could be obtained from any of the constituent learning algorithms alone. In the below task, we have used an ensemble of three models - RandomForestClassifier(), GradientBoostingClassifier(), LogisticRegression(). Feel free to modify this function as per your requirements and fit more models or change the parameters for every model."
   ]
  },
  {
   "cell_type": "code",
   "execution_count": 35,
   "id": "purple-gibraltar",
   "metadata": {},
   "outputs": [],
   "source": [
    "from sklearn.metrics import confusion_matrix\n",
    "from sklearn.ensemble import VotingClassifier\n",
    "\n",
    "\n",
    "# splitting the data  \n",
    "x_train,x_val,y_train,y_val = train_test_split(X, y, test_size=0.3, random_state=42)\n",
    "\n",
    "# using smote\n",
    "smote = SMOTE()\n",
    "X_sm, y_sm =  smote.fit_resample(x_train, y_train)\n",
    "\n",
    "# models to use for ensembling  \n",
    "model1 = RandomForestClassifier()\n",
    "model3 = GradientBoostingClassifier()\n",
    "model2 = LogisticRegression()\n",
    "\n",
    "# fitting the model\n",
    "model = VotingClassifier(estimators=[('rf', model1), ('lr', model2), ('xgb',model3)], voting='soft')\n",
    "model.fit(X_sm,y_sm)\n",
    "\n",
    "# predicting balues and getting the metrics\n",
    "y_pred = model.predict(x_val)"
   ]
  },
  {
   "cell_type": "code",
   "execution_count": 36,
   "id": "roman-turkish",
   "metadata": {},
   "outputs": [
    {
     "name": "stdout",
     "output_type": "stream",
     "text": [
      "              precision    recall  f1-score   support\n",
      "\n",
      "           0       0.95      0.85      0.90      8723\n",
      "           1       0.39      0.69      0.50      1162\n",
      "\n",
      "    accuracy                           0.83      9885\n",
      "   macro avg       0.67      0.77      0.70      9885\n",
      "weighted avg       0.89      0.83      0.85      9885\n",
      "\n",
      "[[7444 1279]\n",
      " [ 359  803]]\n"
     ]
    }
   ],
   "source": [
    "print(classification_report(y_val, y_pred))\n",
    "print(confusion_matrix(y_val, y_pred))"
   ]
  },
  {
   "cell_type": "code",
   "execution_count": 37,
   "id": "meaningful-effort",
   "metadata": {},
   "outputs": [
    {
     "data": {
      "image/png": "[encoded data removed]",
      "text/plain": [
       "<Figure size 576x396 with 1 Axes>"
      ]
     },
     "metadata": {},
     "output_type": "display_data"
    }
   ],
   "source": [
    "visualizer = roc_auc(model,X_sm,y_sm,x_val,y_val)"
   ]
  },
  {
   "cell_type": "markdown",
   "id": "american-buffalo",
   "metadata": {},
   "source": [
    "### Testing the Prediction - Pending"
   ]
  },
  {
   "cell_type": "code",
   "execution_count": null,
   "id": "outer-implement",
   "metadata": {},
   "outputs": [],
   "source": []
  }
 ],
 "metadata": {
  "kernelspec": {
   "display_name": "Python 3",
   "language": "python",
   "name": "python3"
  },
  "language_info": {
   "codemirror_mode": {
    "name": "ipython",
    "version": 3
   },
   "file_extension": ".py",
   "mimetype": "text/x-python",
   "name": "python",
   "nbconvert_exporter": "python",
   "pygments_lexer": "ipython3",
   "version": "3.9.1"
  }
 },
 "nbformat": 4,
 "nbformat_minor": 5
}

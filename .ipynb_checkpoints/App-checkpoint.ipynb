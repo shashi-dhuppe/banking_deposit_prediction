{
 "cells": [
  {
   "cell_type": "code",
   "execution_count": 8,
   "metadata": {},
   "outputs": [
    {
     "data": {
      "text/plain": [
       "''"
      ]
     },
     "execution_count": 8,
     "metadata": {},
     "output_type": "execute_result"
    }
   ],
   "source": [
    "import tkinter as tk    #import tkinter\n",
    "from tkinter import ttk\n",
    "from csv import DictWriter\n",
    "import os \n",
    "\n",
    "win = tk.Tk()\n",
    "win.title('Information Store')    #Title Name"
   ]
  },
  {
   "cell_type": "code",
   "execution_count": 9,
   "metadata": {},
   "outputs": [],
   "source": [
    "#Creating Labels for every input field\n",
    "\n",
    "# Age Label\n",
    "age_label = ttk.Label(win,text = \"Enter Your Age : \")\n",
    "age_label.grid(row=0, column = 0, sticky = tk.W)\n",
    "\n",
    "#Job Label\n",
    "job_label = ttk.Label(win, text = \"Select your Job : \")\n",
    "job_label.grid(row = 1, column = 0, sticky = tk.W)\n",
    "\n",
    "#Marital Label\n",
    "marry_label = ttk.Label(win, text = \"Select your Marital Status : \")\n",
    "marry_label.grid(row = 2, column = 0, sticky = tk.W)\n",
    "\n",
    "#Education Label\n",
    "edu_label = ttk.Label(win, text = \"Select your Education Level : \")\n",
    "edu_label.grid(row = 3, column = 0, sticky = tk.W)\n",
    "\n",
    "\n",
    "# Creating entry box for every label\n",
    "# Age entry box\n",
    "age_var = tk.StringVar()\n",
    "age_entrybox = ttk.Entry(win,width = 16, textvariable= age_var)\n",
    "age_entrybox.grid(row=0, column =1)\n",
    "\n",
    "# Job entry box\n",
    "# Creating combobox\n",
    "age_var = tk.StringVar()\n",
    "age_combobox = ttk.Combobox(win,width = 13, textvariable = age_var, state=\"readonly\")\n",
    "age_combobox['values'] = ('admin','blue-collar','entrepreneur','housemaid','management','retired','self-employed','services','student','technician','unemployed','unknown')\n",
    "age_combobox.current(0)\n",
    "age_combobox.grid(row = 1, column=1)\n",
    "\n",
    "# Marital entry box\n",
    "# Creating combobox\n",
    "marry_var = tk.StringVar()\n",
    "marry_combobox = ttk.Combobox(win,width = 13, textvariable = age_var, state=\"readonly\")\n",
    "marry_combobox['values'] = ('divorced','married','single','unknown')\n",
    "marry_combobox.current(0)\n",
    "marry_combobox.grid(row = 2, column=1)\n",
    "\n",
    "# Marital entry box\n",
    "# Creating combobox\n",
    "edu_var = tk.StringVar()\n",
    "edu_combobox = ttk.Combobox(win,width = 13, textvariable = age_var, state=\"readonly\")\n",
    "edu_combobox['values'] = ('basic.4y','basic.6y','basic.9y','high.school','illiterate','professional.course','university.degree','unknown')\n",
    "edu_combobox.current(0)\n",
    "edu_combobox.grid(row = 3, column=1)\n",
    "\n",
    "#Create radio button\n",
    "user_type = tk.StringVar()\n",
    "radiobtn1 = ttk.Radiobutton(win, text = 'Student', value='Student', variable = user_type)\n",
    "radiobtn1.grid(row=5, column=0)\n",
    "\n",
    "radiobtn2 = ttk.Radiobutton(win, text = 'Teacher', value='Teacher', variable = user_type)\n",
    "radiobtn2.grid(row=5, column=1)\n",
    "\n",
    "#create check button\n",
    "checkbtn_var = tk.IntVar()\n",
    "checkbtn = ttk.Checkbutton(win,text='Click Check Button to Subscribe Our Newsletter',variable=checkbtn_var)\n",
    "checkbtn.grid(row=6,columnspan=3)"
   ]
  },
  {
   "cell_type": "code",
   "execution_count": 10,
   "metadata": {},
   "outputs": [],
   "source": [
    "#Create button code action function\n",
    "def action():\n",
    "    username = name_var.get()\n",
    "    userage = age_var.get()\n",
    "    useremail = email_var.get()\n",
    "    usermobile = mobile_var.get()\n",
    "    usergender = gender_var.get()\n",
    "    usertype = user_type.get()\n",
    "    #change value 0,1 to Yes or No\n",
    "    if checkbtn_var.get() == 0:\n",
    "        subscribe = 'No'\n",
    "    else:\n",
    "        subscribe = 'Yes'\n",
    "\n",
    "    #write to csv file code here\n",
    "    with open('file.csv', 'a', newline = '') as f:\n",
    "        dict_writer = DictWriter(f, fieldnames=['User Name', 'User Age', 'User Email','User Mobile', 'User Gender', 'User Type', 'Subscribe'])\n",
    "        if os.stat('file.csv').st_size == 0:        #if file is not empty than header write else not\n",
    "            dict_writer.writeheader()\n",
    "       \n",
    "        dict_writer.writerow({\n",
    "            'User Name' : username,\n",
    "            'User Age' : userage,\n",
    "            'User Email' : useremail,\n",
    "            'User Mobile' : usermobile,\n",
    "            'User Gender' : usergender,\n",
    "            'User Type' : usertype,\n",
    "            'Subscribe' : subscribe\n",
    "        })\n",
    "    #Change color after submit button\n",
    "    name_entrybox.delete(0, tk.END)\n",
    "    age_entrybox.delete(0, tk.END)\n",
    "    email_entrybox.delete(0, tk.END)\n",
    "    mobile_entrybox.delete(0, tk.END)\n",
    "    name_label.configure(foreground = 'Blue')\n",
    "    email_label.configure(foreground = 'Blue')\n",
    "    age_label.configure(foreground = 'Blue')\n",
    "    mobile_label.configure(foreground = 'Blue')\n",
    "    gender_label.configure(foreground = 'Blue')"
   ]
  },
  {
   "cell_type": "code",
   "execution_count": null,
   "metadata": {},
   "outputs": [],
   "source": [
    "#submit button\n",
    "submit_button = ttk.Button(win, text = \"Submit\", command = action)  \n",
    "submit_button.grid(row=7, column=0)\n",
    "win.mainloop()      #application is not closed auto"
   ]
  },
  {
   "cell_type": "code",
   "execution_count": null,
   "metadata": {},
   "outputs": [],
   "source": [
    "# Source:\n",
    "# https://www.kaggle.com/jainpooja/banking-project-term-deposit-prediction-model/notebook"
   ]
  }
 ],
 "metadata": {
  "kernelspec": {
   "display_name": "Python 3",
   "language": "python",
   "name": "python3"
  },
  "language_info": {
   "codemirror_mode": {
    "name": "ipython",
    "version": 3
   },
   "file_extension": ".py",
   "mimetype": "text/x-python",
   "name": "python",
   "nbconvert_exporter": "python",
   "pygments_lexer": "ipython3",
   "version": "3.9.1"
  }
 },
 "nbformat": 4,
 "nbformat_minor": 2
}

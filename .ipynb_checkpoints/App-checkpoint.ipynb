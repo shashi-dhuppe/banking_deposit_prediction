{
 "cells": [
  {
   "cell_type": "code",
   "execution_count": 1,
   "metadata": {},
   "outputs": [],
   "source": [
    "# Importing essential libraries\n",
    "\n",
    "import tkinter as tk\n",
    "from tkinter import Button\n",
    "from tkinter import ttk\n",
    "from csv import DictWriter\n",
    "import os "
   ]
  },
  {
   "cell_type": "code",
   "execution_count": 5,
   "metadata": {},
   "outputs": [],
   "source": [
    "# Title Name of the application\n",
    "win = tk.Tk()\n",
    "win.title('Banking Deposit Prediction')    \n",
    "\n",
    "#Creating Labels for every input field\n",
    "\n",
    "# Age Label\n",
    "age_label = ttk.Label(win,text = \"Enter Your Age : \")\n",
    "age_label.grid(row=0, column = 0, sticky = tk.W)\n",
    "\n",
    "#Job Label\n",
    "job_label = ttk.Label(win, text = \"Select your Job : \")\n",
    "job_label.grid(row = 1, column = 0, sticky = tk.W)\n",
    "\n",
    "# Creating entry box for every label\n",
    "# Age entry box\n",
    "age_var = tk.StringVar()\n",
    "age_entrybox = ttk.Entry(win,width = 16, textvariable= age_var)\n",
    "age_entrybox.grid(row=0, column =1)\n",
    "\n",
    "# Job entry box\n",
    "# Creating combobox\n",
    "job_var = tk.StringVar()\n",
    "job_combobox = ttk.Combobox(win,width = 13, textvariable = job_var, state=\"readonly\")\n",
    "job_combobox['values'] = ('admin','blue-collar','entrepreneur','housemaid','management','retired','self-employed','services','student','technician','unemployed','unknown')\n",
    "job_combobox.current(0)\n",
    "job_combobox.grid(row = 1, column=1)"
   ]
  },
  {
   "cell_type": "code",
   "execution_count": 6,
   "metadata": {},
   "outputs": [],
   "source": [
    "#Create button code action function\n",
    "\n",
    "def action():\n",
    "    userage = age_var.get()\n",
    "    userjob = job_var.get()\n",
    "\n",
    "    #write to csv file code here\n",
    "    with open('user_data.csv', 'a', newline = '') as f:\n",
    "        dict_writer = DictWriter(f, fieldnames=['User Age', 'User Job'])\n",
    "        if os.stat('user_data.csv').st_size == 0:        #if file is not empty than header write else not\n",
    "            dict_writer.writeheader()\n",
    "       \n",
    "        dict_writer.writerow({\n",
    "            'User Age' : userage,\n",
    "            'User Job' : userjob\n",
    "        })\n",
    "    #Change color after submit button\n",
    "    age_entrybox.delete(0, tk.END)\n",
    "    job_combobox.delete(0, tk.END)\n",
    "    age_label.configure(foreground = 'Blue')\n",
    "    job_label.configure(foreground = 'Blue')"
   ]
  },
  {
   "cell_type": "code",
   "execution_count": 7,
   "metadata": {},
   "outputs": [],
   "source": [
    "#submit button\n",
    "submit_button = ttk.Button(win, text = \"Submit\", command = action)  \n",
    "submit_button.grid(row=7, column=0)\n",
    "win.mainloop()      # Application is not closed auto"
   ]
  },
  {
   "cell_type": "code",
   "execution_count": 9,
   "metadata": {},
   "outputs": [],
   "source": [
    "win.quit()"
   ]
  },
  {
   "cell_type": "code",
   "execution_count": null,
   "metadata": {},
   "outputs": [],
   "source": [
    "# Source:\n",
    "# https://www.kaggle.com/jainpooja/banking-project-term-deposit-prediction-model/notebook"
   ]
  }
 ],
 "metadata": {
  "kernelspec": {
   "display_name": "Python 3",
   "language": "python",
   "name": "python3"
  },
  "language_info": {
   "codemirror_mode": {
    "name": "ipython",
    "version": 3
   },
   "file_extension": ".py",
   "mimetype": "text/x-python",
   "name": "python",
   "nbconvert_exporter": "python",
   "pygments_lexer": "ipython3",
   "version": "3.9.1"
  }
 },
 "nbformat": 4,
 "nbformat_minor": 2
}
